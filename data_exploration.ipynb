{
 "cells": [
  {
   "cell_type": "markdown",
   "id": "80a2336f",
   "metadata": {},
   "source": [
    "# Phase 1"
   ]
  },
  {
   "cell_type": "markdown",
   "id": "3e0c2272",
   "metadata": {},
   "source": [
    "## load the dataset (emotion)"
   ]
  },
  {
   "cell_type": "code",
   "execution_count": 1,
   "id": "674fae60",
   "metadata": {},
   "outputs": [],
   "source": [
    "from datasets import load_dataset\n",
    "raw_datasets = load_dataset(\"emotion\")"
   ]
  },
  {
   "cell_type": "code",
   "execution_count": 2,
   "id": "f6eb1608",
   "metadata": {},
   "outputs": [
    {
     "data": {
      "text/plain": [
       "DatasetDict({\n",
       "    train: Dataset({\n",
       "        features: ['text', 'label'],\n",
       "        num_rows: 16000\n",
       "    })\n",
       "    validation: Dataset({\n",
       "        features: ['text', 'label'],\n",
       "        num_rows: 2000\n",
       "    })\n",
       "    test: Dataset({\n",
       "        features: ['text', 'label'],\n",
       "        num_rows: 2000\n",
       "    })\n",
       "})"
      ]
     },
     "execution_count": 2,
     "metadata": {},
     "output_type": "execute_result"
    }
   ],
   "source": [
    "raw_datasets"
   ]
  },
  {
   "cell_type": "code",
   "execution_count": 3,
   "id": "a2666042",
   "metadata": {},
   "outputs": [
    {
     "data": {
      "text/plain": [
       "{'text': 'i didnt feel humiliated', 'label': 0}"
      ]
     },
     "execution_count": 3,
     "metadata": {},
     "output_type": "execute_result"
    }
   ],
   "source": [
    "raw_train_dataset = raw_datasets[\"train\"]\n",
    "raw_train_dataset[0]"
   ]
  },
  {
   "cell_type": "code",
   "execution_count": 4,
   "id": "5ee6e2d6",
   "metadata": {},
   "outputs": [
    {
     "data": {
      "text/plain": [
       "{'text': Value(dtype='string', id=None),\n",
       " 'label': ClassLabel(names=['sadness', 'joy', 'love', 'anger', 'fear', 'surprise'], id=None)}"
      ]
     },
     "execution_count": 4,
     "metadata": {},
     "output_type": "execute_result"
    }
   ],
   "source": [
    "raw_train_dataset.features"
   ]
  },
  {
   "cell_type": "markdown",
   "id": "8413dbc2",
   "metadata": {},
   "source": [
    "## preprossing"
   ]
  },
  {
   "cell_type": "code",
   "execution_count": 5,
   "id": "5b52dfbf",
   "metadata": {},
   "outputs": [
    {
     "name": "stdout",
     "output_type": "stream",
     "text": [
      "sadness (0): 4666\n",
      "anger (3): 2159\n",
      "love (2): 1304\n",
      "surprise (5): 572\n",
      "fear (4): 1937\n",
      "joy (1): 5362\n"
     ]
    }
   ],
   "source": [
    "# ...existing code...\n",
    "from collections import Counter\n",
    "\n",
    "# Get label names\n",
    "label_names = raw_datasets['train'].features['label'].names\n",
    "\n",
    "# Count label occurrences\n",
    "labels = [example['label'] for example in raw_train_dataset]\n",
    "label_counts = Counter(labels)\n",
    "\n",
    "# Print class distribution with label names\n",
    "for label_id, count in label_counts.items():\n",
    "    print(f\"{label_names[label_id]} ({label_id}): {count}\")\n",
    "# ...existing code..."
   ]
  },
  {
   "cell_type": "code",
   "execution_count": 6,
   "id": "5cd63893",
   "metadata": {},
   "outputs": [
    {
     "name": "stdout",
     "output_type": "stream",
     "text": [
      "Unique labels in the training set: {0, 1, 2, 3, 4, 5}\n"
     ]
    }
   ],
   "source": [
    "# Get all unique labels in the training set\n",
    "unique_labels = set(labels)\n",
    "print(\"Unique labels in the training set:\", unique_labels)\n"
   ]
  },
  {
   "cell_type": "code",
   "execution_count": 7,
   "id": "5e43be7e",
   "metadata": {},
   "outputs": [
    {
     "name": "stdout",
     "output_type": "stream",
     "text": [
      "Number of training samples: 16000\n",
      "Number of validation samples: 2000\n",
      "Number of test samples: 2000\n",
      "Number of classes: 6\n",
      "Classes: ['sadness', 'joy', 'love', 'anger', 'fear', 'surprise']\n",
      "Sample text: i didnt feel humiliated\n"
     ]
    }
   ],
   "source": [
    "# statistics\n",
    "print(f\"Number of training samples: {len(raw_datasets['train'])}\")\n",
    "print(f\"Number of validation samples: {len(raw_datasets['validation'])}\")\n",
    "print(f\"Number of test samples: {len(raw_datasets['test'])}\")\n",
    "print(f\"Number of classes: {len(label_names)}\")\n",
    "print(f\"Classes: {label_names}\")\n",
    "print(f\"Sample text: {raw_datasets['train'][0]['text']}\")\n"
   ]
  },
  {
   "cell_type": "code",
   "execution_count": 8,
   "id": "661293d8",
   "metadata": {},
   "outputs": [
    {
     "name": "stdout",
     "output_type": "stream",
     "text": [
      "Average text length (in words): 19.17\n",
      "Median text length (in words): 17.00\n",
      "Standard deviation of text length (in words): 10.99\n",
      "Max text length (in words): 66\n",
      "Min text length (in words): 2\n"
     ]
    }
   ],
   "source": [
    "# text lengths statistics\n",
    "text_lengths = [len(example['text'].split()) for example in raw_train_dataset]\n",
    "import numpy as np\n",
    "print(f\"Average text length (in words): {np.mean(text_lengths):.2f}\")\n",
    "print(f\"Median text length (in words): {np.median(text_lengths):.2f}\")\n",
    "print(f\"Standard deviation of text length (in words): {np.std(text_lengths):.2f}\")\n",
    "# max text length\n",
    "print(f\"Max text length (in words): {np.max(text_lengths)}\")\n",
    "# min text length\n",
    "print(f\"Min text length (in words): {np.min(text_lengths)}\")"
   ]
  },
  {
   "cell_type": "markdown",
   "id": "e5863792",
   "metadata": {},
   "source": [
    "# Phase 2"
   ]
  },
  {
   "cell_type": "code",
   "execution_count": 12,
   "id": "7efcc7ba",
   "metadata": {},
   "outputs": [],
   "source": [
    "\n",
    "\n",
    "# Phase 2: Model Fine-Tuning & Evaluation\n",
    "\n",
    "## 1. Import required libraries\n",
    "from transformers import AutoTokenizer, AutoModelForSequenceClassification, Trainer, TrainingArguments\n",
    "import numpy as np\n",
    "import evaluate\n",
    "from sklearn.metrics import classification_report, confusion_matrix"
   ]
  },
  {
   "cell_type": "code",
   "execution_count": 57,
   "id": "47e3c285",
   "metadata": {},
   "outputs": [
    {
     "name": "stderr",
     "output_type": "stream",
     "text": [
      "Some weights of DistilBertForSequenceClassification were not initialized from the model checkpoint at distilbert-base-uncased and are newly initialized: ['classifier.bias', 'classifier.weight', 'pre_classifier.bias', 'pre_classifier.weight']\n",
      "You should probably TRAIN this model on a down-stream task to be able to use it for predictions and inference.\n"
     ]
    }
   ],
   "source": [
    "\n",
    "## 2. Load the tokenizer and model\n",
    "model_checkpoint = \"distilbert-base-uncased\"  # or \"prajjwal1/bert-tiny\" for smaller model\n",
    "tokenizer = AutoTokenizer.from_pretrained(model_checkpoint)\n",
    "model = AutoModelForSequenceClassification.from_pretrained(model_checkpoint, num_labels=6)\n"
   ]
  },
  {
   "cell_type": "code",
   "execution_count": 58,
   "id": "39de8e96",
   "metadata": {},
   "outputs": [
    {
     "data": {
      "application/vnd.jupyter.widget-view+json": {
       "model_id": "83ba6ddd00f542c2a4b45f76b6848827",
       "version_major": 2,
       "version_minor": 0
      },
      "text/plain": [
       "Map:   0%|          | 0/16000 [00:00<?, ? examples/s]"
      ]
     },
     "metadata": {},
     "output_type": "display_data"
    },
    {
     "data": {
      "application/vnd.jupyter.widget-view+json": {
       "model_id": "b470e041fbef497481b407b4c5bae9a0",
       "version_major": 2,
       "version_minor": 0
      },
      "text/plain": [
       "Map:   0%|          | 0/2000 [00:00<?, ? examples/s]"
      ]
     },
     "metadata": {},
     "output_type": "display_data"
    },
    {
     "data": {
      "application/vnd.jupyter.widget-view+json": {
       "model_id": "51c3d92537ce4a508996157e8db7c1a1",
       "version_major": 2,
       "version_minor": 0
      },
      "text/plain": [
       "Map:   0%|          | 0/2000 [00:00<?, ? examples/s]"
      ]
     },
     "metadata": {},
     "output_type": "display_data"
    },
    {
     "data": {
      "text/plain": [
       "{'text': 'i didnt feel humiliated',\n",
       " 'label': 0,\n",
       " 'input_ids': [101, 1045, 2134, 2102, 2514, 26608, 102],\n",
       " 'attention_mask': [1, 1, 1, 1, 1, 1, 1]}"
      ]
     },
     "execution_count": 58,
     "metadata": {},
     "output_type": "execute_result"
    }
   ],
   "source": [
    " #3 dynamic padding\n",
    "from transformers import DataCollatorWithPadding\n",
    "def tokenize_function(example):\n",
    "    return tokenizer(example[\"text\"], truncation=True)\n",
    "tokenized_datasets = raw_datasets.map(tokenize_function, batched=True)\n",
    "\n",
    "data_collator = DataCollatorWithPadding(tokenizer=tokenizer)\n",
    "tokenized_datasets[\"train\"][0]"
   ]
  },
  {
   "cell_type": "code",
   "execution_count": 59,
   "id": "68bf8595",
   "metadata": {},
   "outputs": [
    {
     "data": {
      "text/plain": [
       "{'label': tensor(0),\n",
       " 'input_ids': tensor([  101,  1045,  2134,  2102,  2514, 26608,   102]),\n",
       " 'attention_mask': tensor([1, 1, 1, 1, 1, 1, 1])}"
      ]
     },
     "execution_count": 59,
     "metadata": {},
     "output_type": "execute_result"
    }
   ],
   "source": [
    "#4 Remove the 'text' column from all splits\n",
    "tokenized_datasets = tokenized_datasets.remove_columns([\"text\"])\n",
    "tokenized_datasets.set_format(\"torch\", columns=[\"input_ids\", \"attention_mask\", \"label\"])\n",
    "tokenized_datasets[\"train\"][0]"
   ]
  },
  {
   "cell_type": "code",
   "execution_count": 60,
   "id": "9a1e2f40",
   "metadata": {},
   "outputs": [],
   "source": [
    "#5 define training arguments\n",
    "# import TrainingArguments\n",
    "from transformers import TrainingArguments\n",
    "training_args = TrainingArguments(\n",
    "    output_dir=\"./results\",\n",
    "    eval_strategy=\"epoch\",\n",
    "    save_strategy=\"epoch\",\n",
    "    learning_rate=2e-5,\n",
    "    per_device_train_batch_size=8,\n",
    "    per_device_eval_batch_size=8,\n",
    "    num_train_epochs=2,\n",
    "    weight_decay=0.01,\n",
    "    load_best_model_at_end=True,\n",
    "    metric_for_best_model=\"macro_f1\",\n",
    "    # increase logging steps if needed\n",
    "\n",
    ")"
   ]
  },
  {
   "cell_type": "code",
   "execution_count": 61,
   "id": "a6e5158e",
   "metadata": {},
   "outputs": [],
   "source": [
    "# define metrics function\n",
    "from sklearn.metrics import f1_score, accuracy_score, classification_report\n",
    "\n",
    "def compute_metrics(eval_pred):\n",
    "    logits, labels = eval_pred\n",
    "    predictions = np.argmax(logits, axis=-1)\n",
    "    acc = accuracy_score(labels, predictions)\n",
    "    macro_f1 = f1_score(labels, predictions, average=\"macro\")\n",
    "    report = classification_report(labels, predictions, output_dict=True)\n",
    "    return {\n",
    "        \"accuracy\": acc,\n",
    "        \"macro_f1\": macro_f1,\n",
    "        \"f1_sadness\": report[\"0\"][\"f1-score\"],\n",
    "        \"f1_joy\": report[\"1\"][\"f1-score\"],\n",
    "        \"f1_love\": report[\"2\"][\"f1-score\"],\n",
    "        \"f1_anger\": report[\"3\"][\"f1-score\"],\n",
    "        \"f1_fear\": report[\"4\"][\"f1-score\"],\n",
    "        \"f1_surprise\": report[\"5\"][\"f1-score\"],\n",
    "    }"
   ]
  },
  {
   "cell_type": "code",
   "execution_count": null,
   "id": "2c34974a",
   "metadata": {},
   "outputs": [],
   "source": [
    "# 7 intialize trainer\n",
    "\n",
    "from transformers import EarlyStoppingCallback\n",
    "\n",
    "# Add callbacks to the Trainer\n",
    "callbacks = [EarlyStoppingCallback(early_stopping_patience=)]\n",
    "\n",
    "trainer = Trainer(\n",
    "    model=model,\n",
    "    args=training_args,\n",
    "    train_dataset=tokenized_datasets[\"train\"],\n",
    "    eval_dataset=tokenized_datasets[\"validation\"],\n",
    "    data_collator=data_collator,\n",
    "    callbacks=callbacks,\n",
    "    compute_metrics=compute_metrics,\n",
    ")"
   ]
  },
  {
   "cell_type": "code",
   "execution_count": 63,
   "id": "c60bc2ea",
   "metadata": {},
   "outputs": [
    {
     "name": "stderr",
     "output_type": "stream",
     "text": [
      "c:\\Users\\rahul\\AppData\\Local\\Programs\\Python\\Python312\\Lib\\site-packages\\torch\\utils\\data\\dataloader.py:666: UserWarning: 'pin_memory' argument is set as true but no accelerator is found, then device pinned memory won't be used.\n",
      "  warnings.warn(warn_msg)\n"
     ]
    },
    {
     "data": {
      "text/html": [
       "\n",
       "    <div>\n",
       "      \n",
       "      <progress value='4000' max='4000' style='width:300px; height:20px; vertical-align: middle;'></progress>\n",
       "      [4000/4000 1:47:33, Epoch 2/2]\n",
       "    </div>\n",
       "    <table border=\"1\" class=\"dataframe\">\n",
       "  <thead>\n",
       " <tr style=\"text-align: left;\">\n",
       "      <th>Epoch</th>\n",
       "      <th>Training Loss</th>\n",
       "      <th>Validation Loss</th>\n",
       "      <th>Accuracy</th>\n",
       "      <th>Macro F1</th>\n",
       "      <th>F1 Sadness</th>\n",
       "      <th>F1 Joy</th>\n",
       "      <th>F1 Love</th>\n",
       "      <th>F1 Anger</th>\n",
       "      <th>F1 Fear</th>\n",
       "      <th>F1 Surprise</th>\n",
       "    </tr>\n",
       "  </thead>\n",
       "  <tbody>\n",
       "    <tr>\n",
       "      <td>1</td>\n",
       "      <td>0.240000</td>\n",
       "      <td>0.215586</td>\n",
       "      <td>0.929000</td>\n",
       "      <td>0.902907</td>\n",
       "      <td>0.962298</td>\n",
       "      <td>0.948884</td>\n",
       "      <td>0.870270</td>\n",
       "      <td>0.922787</td>\n",
       "      <td>0.871671</td>\n",
       "      <td>0.841530</td>\n",
       "    </tr>\n",
       "    <tr>\n",
       "      <td>2</td>\n",
       "      <td>0.149900</td>\n",
       "      <td>0.171035</td>\n",
       "      <td>0.942500</td>\n",
       "      <td>0.920567</td>\n",
       "      <td>0.965642</td>\n",
       "      <td>0.962224</td>\n",
       "      <td>0.893855</td>\n",
       "      <td>0.936248</td>\n",
       "      <td>0.892019</td>\n",
       "      <td>0.873418</td>\n",
       "    </tr>\n",
       "  </tbody>\n",
       "</table><p>"
      ],
      "text/plain": [
       "<IPython.core.display.HTML object>"
      ]
     },
     "metadata": {},
     "output_type": "display_data"
    },
    {
     "name": "stderr",
     "output_type": "stream",
     "text": [
      "c:\\Users\\rahul\\AppData\\Local\\Programs\\Python\\Python312\\Lib\\site-packages\\torch\\utils\\data\\dataloader.py:666: UserWarning: 'pin_memory' argument is set as true but no accelerator is found, then device pinned memory won't be used.\n",
      "  warnings.warn(warn_msg)\n"
     ]
    },
    {
     "data": {
      "text/plain": [
       "TrainOutput(global_step=4000, training_loss=0.28264632987976074, metrics={'train_runtime': 6457.6216, 'train_samples_per_second': 4.955, 'train_steps_per_second': 0.619, 'total_flos': 342206328271392.0, 'train_loss': 0.28264632987976074, 'epoch': 2.0})"
      ]
     },
     "execution_count": 63,
     "metadata": {},
     "output_type": "execute_result"
    }
   ],
   "source": [
    "# 8 train the model\n",
    "trainer.train()     "
   ]
  },
  {
   "cell_type": "code",
   "execution_count": 64,
   "id": "331d10ef",
   "metadata": {},
   "outputs": [
    {
     "name": "stderr",
     "output_type": "stream",
     "text": [
      "c:\\Users\\rahul\\AppData\\Local\\Programs\\Python\\Python312\\Lib\\site-packages\\torch\\utils\\data\\dataloader.py:666: UserWarning: 'pin_memory' argument is set as true but no accelerator is found, then device pinned memory won't be used.\n",
      "  warnings.warn(warn_msg)\n"
     ]
    },
    {
     "data": {
      "text/html": [],
      "text/plain": [
       "<IPython.core.display.HTML object>"
      ]
     },
     "metadata": {},
     "output_type": "display_data"
    },
    {
     "name": "stderr",
     "output_type": "stream",
     "text": [
      "c:\\Users\\rahul\\AppData\\Local\\Programs\\Python\\Python312\\Lib\\site-packages\\torch\\utils\\data\\dataloader.py:666: UserWarning: 'pin_memory' argument is set as true but no accelerator is found, then device pinned memory won't be used.\n",
      "  warnings.warn(warn_msg)\n"
     ]
    },
    {
     "data": {
      "text/plain": [
       "{'eval_loss': 0.2075832188129425,\n",
       " 'eval_accuracy': 0.9285,\n",
       " 'eval_macro_f1': 0.8887397158369915,\n",
       " 'eval_f1_sadness': 0.9611063094209161,\n",
       " 'eval_f1_joy': 0.9525862068965517,\n",
       " 'eval_f1_love': 0.8411214953271028,\n",
       " 'eval_f1_anger': 0.9183303085299456,\n",
       " 'eval_f1_fear': 0.8923766816143498,\n",
       " 'eval_f1_surprise': 0.7669172932330827,\n",
       " 'eval_runtime': 88.974,\n",
       " 'eval_samples_per_second': 22.478,\n",
       " 'eval_steps_per_second': 2.81,\n",
       " 'epoch': 2.0}"
      ]
     },
     "execution_count": 64,
     "metadata": {},
     "output_type": "execute_result"
    }
   ],
   "source": [
    "# evalute the model\n",
    "trainer.evaluate(tokenized_datasets[\"validation\"])\n",
    "trainer.evaluate(tokenized_datasets[\"test\"])"
   ]
  },
  {
   "cell_type": "code",
   "execution_count": 65,
   "id": "c6c5a310",
   "metadata": {},
   "outputs": [
    {
     "name": "stderr",
     "output_type": "stream",
     "text": [
      "c:\\Users\\rahul\\AppData\\Local\\Programs\\Python\\Python312\\Lib\\site-packages\\torch\\utils\\data\\dataloader.py:666: UserWarning: 'pin_memory' argument is set as true but no accelerator is found, then device pinned memory won't be used.\n",
      "  warnings.warn(warn_msg)\n"
     ]
    },
    {
     "name": "stdout",
     "output_type": "stream",
     "text": [
      "              precision    recall  f1-score   support\n",
      "\n",
      "     sadness       0.97      0.96      0.96       581\n",
      "         joy       0.95      0.95      0.95       695\n",
      "        love       0.83      0.85      0.84       159\n",
      "       anger       0.92      0.92      0.92       275\n",
      "        fear       0.90      0.89      0.89       224\n",
      "    surprise       0.76      0.77      0.77        66\n",
      "\n",
      "    accuracy                           0.93      2000\n",
      "   macro avg       0.89      0.89      0.89      2000\n",
      "weighted avg       0.93      0.93      0.93      2000\n",
      "\n",
      "[[556   6   0  12   7   0]\n",
      " [  1 663  27   2   0   2]\n",
      " [  0  22 135   2   0   0]\n",
      " [ 12   3   0 253   7   0]\n",
      " [  4   0   0   7 199  14]\n",
      " [  3   3   0   0   9  51]]\n"
     ]
    }
   ],
   "source": [
    "# detailed metrics & confusion matrix\n",
    "preds = trainer.predict(tokenized_datasets[\"test\"])\n",
    "y_true = preds.label_ids\n",
    "y_pred = np.argmax(preds.predictions, axis=1)\n",
    "print(classification_report(y_true, y_pred, target_names=label_names))\n",
    "print(confusion_matrix(y_true, y_pred))"
   ]
  },
  {
   "cell_type": "code",
   "execution_count": 66,
   "id": "7e136ec2",
   "metadata": {},
   "outputs": [
    {
     "data": {
      "text/plain": [
       "('./sentiment_model\\\\tokenizer_config.json',\n",
       " './sentiment_model\\\\special_tokens_map.json',\n",
       " './sentiment_model\\\\vocab.txt',\n",
       " './sentiment_model\\\\added_tokens.json',\n",
       " './sentiment_model\\\\tokenizer.json')"
      ]
     },
     "execution_count": 66,
     "metadata": {},
     "output_type": "execute_result"
    }
   ],
   "source": [
    "# save the model and tokenizer\n",
    "model.save_pretrained(\"./sentiment_model\")\n",
    "tokenizer.save_pretrained(\"./sentiment_model\")"
   ]
  }
 ],
 "metadata": {
  "kernelspec": {
   "display_name": "Python 3",
   "language": "python",
   "name": "python3"
  },
  "language_info": {
   "codemirror_mode": {
    "name": "ipython",
    "version": 3
   },
   "file_extension": ".py",
   "mimetype": "text/x-python",
   "name": "python",
   "nbconvert_exporter": "python",
   "pygments_lexer": "ipython3",
   "version": "3.12.2"
  }
 },
 "nbformat": 4,
 "nbformat_minor": 5
}
