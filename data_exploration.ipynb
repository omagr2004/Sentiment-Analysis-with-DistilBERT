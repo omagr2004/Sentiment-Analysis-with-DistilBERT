{
 "cells": [
  {
   "cell_type": "markdown",
   "id": "3e0c2272",
   "metadata": {},
   "source": [
    "## load the dataset (emotion)"
   ]
  },
  {
   "cell_type": "code",
   "execution_count": 1,
   "id": "674fae60",
   "metadata": {},
   "outputs": [],
   "source": [
    "from datasets import load_dataset\n",
    "raw_datasets = load_dataset(\"emotion\")"
   ]
  },
  {
   "cell_type": "code",
   "execution_count": 2,
   "id": "f6eb1608",
   "metadata": {},
   "outputs": [
    {
     "data": {
      "text/plain": [
       "DatasetDict({\n",
       "    train: Dataset({\n",
       "        features: ['text', 'label'],\n",
       "        num_rows: 16000\n",
       "    })\n",
       "    validation: Dataset({\n",
       "        features: ['text', 'label'],\n",
       "        num_rows: 2000\n",
       "    })\n",
       "    test: Dataset({\n",
       "        features: ['text', 'label'],\n",
       "        num_rows: 2000\n",
       "    })\n",
       "})"
      ]
     },
     "execution_count": 2,
     "metadata": {},
     "output_type": "execute_result"
    }
   ],
   "source": [
    "raw_datasets"
   ]
  },
  {
   "cell_type": "code",
   "execution_count": 3,
   "id": "a2666042",
   "metadata": {},
   "outputs": [
    {
     "data": {
      "text/plain": [
       "{'text': 'i didnt feel humiliated', 'label': 0}"
      ]
     },
     "execution_count": 3,
     "metadata": {},
     "output_type": "execute_result"
    }
   ],
   "source": [
    "raw_train_dataset = raw_datasets[\"train\"]\n",
    "raw_train_dataset[0]"
   ]
  },
  {
   "cell_type": "code",
   "execution_count": 4,
   "id": "5ee6e2d6",
   "metadata": {},
   "outputs": [
    {
     "data": {
      "text/plain": [
       "{'text': Value(dtype='string', id=None),\n",
       " 'label': ClassLabel(names=['sadness', 'joy', 'love', 'anger', 'fear', 'surprise'], id=None)}"
      ]
     },
     "execution_count": 4,
     "metadata": {},
     "output_type": "execute_result"
    }
   ],
   "source": [
    "raw_train_dataset.features"
   ]
  },
  {
   "cell_type": "markdown",
   "id": "8413dbc2",
   "metadata": {},
   "source": [
    "## preprossing"
   ]
  },
  {
   "cell_type": "code",
   "execution_count": 10,
   "id": "5b52dfbf",
   "metadata": {},
   "outputs": [
    {
     "name": "stdout",
     "output_type": "stream",
     "text": [
      "sadness (0): 4666\n",
      "anger (3): 2159\n",
      "love (2): 1304\n",
      "surprise (5): 572\n",
      "fear (4): 1937\n",
      "joy (1): 5362\n"
     ]
    }
   ],
   "source": [
    "# ...existing code...\n",
    "from collections import Counter\n",
    "\n",
    "# Get label names\n",
    "label_names = raw_datasets['train'].features['label'].names\n",
    "\n",
    "# Count label occurrences\n",
    "labels = [example['label'] for example in raw_train_dataset]\n",
    "label_counts = Counter(labels)\n",
    "\n",
    "# Print class distribution with label names\n",
    "for label_id, count in label_counts.items():\n",
    "    print(f\"{label_names[label_id]} ({label_id}): {count}\")\n",
    "# ...existing code..."
   ]
  },
  {
   "cell_type": "code",
   "execution_count": 8,
   "id": "5cd63893",
   "metadata": {},
   "outputs": [
    {
     "name": "stdout",
     "output_type": "stream",
     "text": [
      "Unique labels in the training set: {0, 1, 2, 3, 4, 5}\n"
     ]
    }
   ],
   "source": [
    "# Get all unique labels in the training set\n",
    "unique_labels = set(labels)\n",
    "print(\"Unique labels in the training set:\", unique_labels)\n"
   ]
  },
  {
   "cell_type": "code",
   "execution_count": 9,
   "id": "5e43be7e",
   "metadata": {},
   "outputs": [
    {
     "name": "stdout",
     "output_type": "stream",
     "text": [
      "Number of training samples: 16000\n",
      "Number of validation samples: 2000\n",
      "Number of test samples: 2000\n",
      "Number of classes: 6\n",
      "Classes: ['sadness', 'joy', 'love', 'anger', 'fear', 'surprise']\n",
      "Sample text: i didnt feel humiliated\n"
     ]
    }
   ],
   "source": [
    "# statistics\n",
    "print(f\"Number of training samples: {len(raw_datasets['train'])}\")\n",
    "print(f\"Number of validation samples: {len(raw_datasets['validation'])}\")\n",
    "print(f\"Number of test samples: {len(raw_datasets['test'])}\")\n",
    "print(f\"Number of classes: {len(label_names)}\")\n",
    "print(f\"Classes: {label_names}\")\n",
    "print(f\"Sample text: {raw_datasets['train'][0]['text']}\")\n"
   ]
  },
  {
   "cell_type": "code",
   "execution_count": 12,
   "id": "661293d8",
   "metadata": {},
   "outputs": [
    {
     "name": "stdout",
     "output_type": "stream",
     "text": [
      "Average text length (in words): 19.17\n",
      "Median text length (in words): 17.00\n",
      "Standard deviation of text length (in words): 10.99\n",
      "Max text length (in words): 66\n",
      "Min text length (in words): 2\n"
     ]
    }
   ],
   "source": [
    "# text lengths statistics\n",
    "text_lengths = [len(example['text'].split()) for example in raw_train_dataset]\n",
    "import numpy as np\n",
    "print(f\"Average text length (in words): {np.mean(text_lengths):.2f}\")\n",
    "print(f\"Median text length (in words): {np.median(text_lengths):.2f}\")\n",
    "print(f\"Standard deviation of text length (in words): {np.std(text_lengths):.2f}\")\n",
    "# max text length\n",
    "print(f\"Max text length (in words): {np.max(text_lengths)}\")\n",
    "# min text length\n",
    "print(f\"Min text length (in words): {np.min(text_lengths)}\")"
   ]
  }
 ],
 "metadata": {
  "kernelspec": {
   "display_name": "Python 3",
   "language": "python",
   "name": "python3"
  },
  "language_info": {
   "codemirror_mode": {
    "name": "ipython",
    "version": 3
   },
   "file_extension": ".py",
   "mimetype": "text/x-python",
   "name": "python",
   "nbconvert_exporter": "python",
   "pygments_lexer": "ipython3",
   "version": "3.12.2"
  }
 },
 "nbformat": 4,
 "nbformat_minor": 5
}
