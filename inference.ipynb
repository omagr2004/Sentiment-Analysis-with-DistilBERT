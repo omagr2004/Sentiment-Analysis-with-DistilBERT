{
 "cells": [
  {
   "cell_type": "markdown",
   "id": "d16d5b2b",
   "metadata": {},
   "source": [
    "# inference"
   ]
  },
  {
   "cell_type": "code",
   "execution_count": 1,
   "id": "e5d41494",
   "metadata": {},
   "outputs": [],
   "source": [
    "from transformers import AutoTokenizer, AutoModelForSequenceClassification\n",
    "\n",
    "model = AutoModelForSequenceClassification.from_pretrained(\"./sentiment_model\")\n",
    "tokenizer = AutoTokenizer.from_pretrained(\"./sentiment_model\")"
   ]
  },
  {
   "cell_type": "code",
   "execution_count": 2,
   "id": "586dfb64",
   "metadata": {},
   "outputs": [
    {
     "name": "stderr",
     "output_type": "stream",
     "text": [
      "Device set to use cpu\n",
      "c:\\Users\\rahul\\AppData\\Local\\Programs\\Python\\Python312\\Lib\\site-packages\\transformers\\pipelines\\text_classification.py:111: UserWarning: `return_all_scores` is now deprecated,  if want a similar functionality use `top_k=None` instead of `return_all_scores=True` or `top_k=1` instead of `return_all_scores=False`.\n",
      "  warnings.warn(\n"
     ]
    }
   ],
   "source": [
    "from transformers import pipeline\n",
    "\n",
    "sentiment_pipeline = pipeline(\"text-classification\", model=model, tokenizer=tokenizer,return_all_scores=True)"
   ]
  },
  {
   "cell_type": "code",
   "execution_count": 5,
   "id": "6e98efd1",
   "metadata": {},
   "outputs": [
    {
     "name": "stdout",
     "output_type": "stream",
     "text": [
      "[[{'label': 'sadness', 'score': 0.00014665817434433848}, {'label': 'joy', 'score': 0.9994096755981445}, {'label': 'love', 'score': 0.0002822990354616195}, {'label': 'anger', 'score': 5.322848664945923e-05}, {'label': 'fear', 'score': 3.692536847665906e-05}, {'label': 'surprise', 'score': 7.121766975615174e-05}], [{'label': 'sadness', 'score': 0.996508777141571}, {'label': 'joy', 'score': 0.0005573377129621804}, {'label': 'love', 'score': 0.00010307408956578001}, {'label': 'anger', 'score': 0.0020333032589405775}, {'label': 'fear', 'score': 0.0007385372300632298}, {'label': 'surprise', 'score': 5.8886940678348765e-05}], [{'label': 'sadness', 'score': 0.013541593216359615}, {'label': 'joy', 'score': 0.8773049116134644}, {'label': 'love', 'score': 0.08595721423625946}, {'label': 'anger', 'score': 0.018441952764987946}, {'label': 'fear', 'score': 0.003455085912719369}, {'label': 'surprise', 'score': 0.001299193943850696}], [{'label': 'sadness', 'score': 0.00016380661691073328}, {'label': 'joy', 'score': 0.00017582099826540798}, {'label': 'love', 'score': 9.408165351487696e-05}, {'label': 'anger', 'score': 0.00032799411565065384}, {'label': 'fear', 'score': 0.998991072177887}, {'label': 'surprise', 'score': 0.0002472104097250849}], [{'label': 'sadness', 'score': 0.2072535753250122}, {'label': 'joy', 'score': 0.02052956447005272}, {'label': 'love', 'score': 0.0012098252773284912}, {'label': 'anger', 'score': 0.6193637847900391}, {'label': 'fear', 'score': 0.14717605710029602}, {'label': 'surprise', 'score': 0.004467214923352003}]]\n"
     ]
    }
   ],
   "source": [
    "# ...existing code...\n",
    "# Define your label names in the same order as training\n",
    "label_names = ['sadness', 'joy', 'love', 'anger', 'fear', 'surprise']\n",
    "\n",
    "# Run inference\n",
    "texts = [\n",
    "    \"I am so happy today!\",\n",
    "    \"This is the worst day ever.\",\n",
    "    \"I love this!\",\n",
    "    \"I'm scared of the dark.\",\n",
    "    \"She smiled at me, and my heart skipped a beat.\"\n",
    "]\n",
    "predictions = sentiment_pipeline(texts)\n",
    "\n",
    "# Map LABEL_X to emotion names\n",
    "for preds in predictions:\n",
    "    for pred in preds:\n",
    "        label_idx = int(pred['label'].split('_')[-1])\n",
    "        pred['label'] = label_names[label_idx]\n",
    "print(predictions)"
   ]
  },
  {
   "cell_type": "code",
   "execution_count": 6,
   "id": "6baf0d36",
   "metadata": {},
   "outputs": [
    {
     "name": "stderr",
     "output_type": "stream",
     "text": [
      "Device set to use cpu\n"
     ]
    },
    {
     "name": "stdout",
     "output_type": "stream",
     "text": [
      "Text: She smiled at me, and my heart skipped a beat.\n",
      "  sadness: 0.207\n",
      "  joy: 0.021\n",
      "  love: 0.001\n",
      "  anger: 0.619\n",
      "  fear: 0.147\n",
      "  surprise: 0.004\n",
      "\n"
     ]
    }
   ],
   "source": [
    "# ...existing code...\n",
    "sentiment_pipeline = pipeline(\"text-classification\", model=model, tokenizer=tokenizer, return_all_scores=True)\n",
    "\n",
    "texts = [\n",
    "    \n",
    "    \"She smiled at me, and my heart skipped a beat.\"\n",
    "]\n",
    "all_predictions = sentiment_pipeline(texts)\n",
    "\n",
    "for text, preds in zip(texts, all_predictions):\n",
    "    print(f\"Text: {text}\")\n",
    "    for i, pred in enumerate(preds):\n",
    "        print(f\"  {label_names[i]}: {pred['score']:.3f}\")\n",
    "    print()"
   ]
  }
 ],
 "metadata": {
  "kernelspec": {
   "display_name": "Python 3",
   "language": "python",
   "name": "python3"
  },
  "language_info": {
   "codemirror_mode": {
    "name": "ipython",
    "version": 3
   },
   "file_extension": ".py",
   "mimetype": "text/x-python",
   "name": "python",
   "nbconvert_exporter": "python",
   "pygments_lexer": "ipython3",
   "version": "3.12.2"
  }
 },
 "nbformat": 4,
 "nbformat_minor": 5
}
